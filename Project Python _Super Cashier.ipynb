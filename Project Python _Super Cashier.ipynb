{
 "cells": [
  {
   "cell_type": "markdown",
   "id": "3a4dcbae",
   "metadata": {},
   "source": [
    "# **Project Python_Super Cashier - Agil Wirayudha - ADS**"
   ]
  },
  {
   "cell_type": "markdown",
   "id": "c6169600",
   "metadata": {},
   "source": [
    "## Import modul"
   ]
  },
  {
   "cell_type": "code",
   "execution_count": 1,
   "id": "d1de0e86",
   "metadata": {},
   "outputs": [],
   "source": [
    "import supercashier as sc"
   ]
  },
  {
   "cell_type": "markdown",
   "id": "594300ce",
   "metadata": {},
   "source": [
    "## Membuat object pada class Transaction"
   ]
  },
  {
   "cell_type": "code",
   "execution_count": 2,
   "id": "b711a9ec",
   "metadata": {},
   "outputs": [],
   "source": [
    "test = sc.Transaction()"
   ]
  },
  {
   "cell_type": "markdown",
   "id": "114a4f44",
   "metadata": {},
   "source": [
    "## Test 1 (Menambahkan barang)"
   ]
  },
  {
   "cell_type": "code",
   "execution_count": 3,
   "id": "95ae13db",
   "metadata": {},
   "outputs": [
    {
     "name": "stdout",
     "output_type": "stream",
     "text": [
      "Item yang dibeli adalah {'Ayam Goreng': [2, 20000], 'Pasta Gigi': [3, 15000]}\n"
     ]
    }
   ],
   "source": [
    "test.add_item('Ayam Goreng', 2, 20000)\n",
    "test.add_item('Pasta Gigi', 3, 15000, last_item=True)"
   ]
  },
  {
   "cell_type": "code",
   "execution_count": 4,
   "id": "8dc7ce35",
   "metadata": {},
   "outputs": [
    {
     "name": "stdout",
     "output_type": "stream",
     "text": [
      "Nama barang 'Ayam Goreng' telah diganti menjadi 'Bebek Goreng'\n"
     ]
    }
   ],
   "source": [
    "test.update_item_name('Ayam Goreng', 'Bebek Goreng')"
   ]
  },
  {
   "cell_type": "code",
   "execution_count": 5,
   "id": "85ad4ced",
   "metadata": {},
   "outputs": [
    {
     "name": "stdout",
     "output_type": "stream",
     "text": [
      "Jumlah barang 'Bebek Goreng' telah diubah menjadi 3\n"
     ]
    }
   ],
   "source": [
    "test.update_item_qty('Bebek Goreng', 3)"
   ]
  },
  {
   "cell_type": "code",
   "execution_count": 6,
   "id": "a47adfda",
   "metadata": {},
   "outputs": [
    {
     "name": "stdout",
     "output_type": "stream",
     "text": [
      "Harga barang 'Bebek Goreng' telah diubah menjadi 25000\n"
     ]
    }
   ],
   "source": [
    "test.update_item_price('Bebek Goreng', 25000)"
   ]
  },
  {
   "cell_type": "markdown",
   "id": "646cd956",
   "metadata": {},
   "source": [
    "## Test 2 (Menghapus salah satu barang)"
   ]
  },
  {
   "cell_type": "code",
   "execution_count": 7,
   "id": "1a44386d",
   "metadata": {},
   "outputs": [
    {
     "name": "stdout",
     "output_type": "stream",
     "text": [
      "Barang 'Pasta Gigi' telah dihapus dari keranjang\n"
     ]
    }
   ],
   "source": [
    "test.delete_item('Pasta Gigi')"
   ]
  },
  {
   "cell_type": "markdown",
   "id": "97f6400b",
   "metadata": {},
   "source": [
    "## Test 3 (Menghapus keseluruhan barang yang dipesan)"
   ]
  },
  {
   "cell_type": "code",
   "execution_count": 8,
   "id": "53ade08b",
   "metadata": {},
   "outputs": [
    {
     "name": "stdout",
     "output_type": "stream",
     "text": [
      "Semua item berhasil di-delete!\n"
     ]
    }
   ],
   "source": [
    "test.reset_transaction()"
   ]
  },
  {
   "cell_type": "markdown",
   "id": "ebd4a33e",
   "metadata": {},
   "source": [
    "## Test 4 (Menghitung total yang harus dibayar)"
   ]
  },
  {
   "cell_type": "code",
   "execution_count": 9,
   "id": "95d00da1",
   "metadata": {},
   "outputs": [
    {
     "name": "stdout",
     "output_type": "stream",
     "text": [
      "Item yang dibeli adalah {'Ayam Goreng': [2, 20000], 'Pasta Gigi': [3, 15000], 'Mainan Mobil': [1, 200000], 'Mi Instan': [5, 3000]}.\n",
      "Anda mendapatkan diskon 5%, total yang harus Anda bayar adalah sebesar Rp 285000.0\n"
     ]
    }
   ],
   "source": [
    "test.add_item('Ayam Goreng', 2, 20000)\n",
    "test.add_item('Pasta Gigi', 3, 15000)\n",
    "test.add_item('Mainan Mobil', 1, 200000)\n",
    "test.add_item('Mi Instan', 5, 3000)\n",
    "test.total_price()"
   ]
  },
  {
   "cell_type": "code",
   "execution_count": null,
   "id": "44648816",
   "metadata": {},
   "outputs": [],
   "source": []
  }
 ],
 "metadata": {
  "kernelspec": {
   "display_name": "Python 3 (ipykernel)",
   "language": "python",
   "name": "python3"
  },
  "language_info": {
   "codemirror_mode": {
    "name": "ipython",
    "version": 3
   },
   "file_extension": ".py",
   "mimetype": "text/x-python",
   "name": "python",
   "nbconvert_exporter": "python",
   "pygments_lexer": "ipython3",
   "version": "3.11.3"
  }
 },
 "nbformat": 4,
 "nbformat_minor": 5
}
